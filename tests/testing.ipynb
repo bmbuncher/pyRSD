{
 "metadata": {
  "name": ""
 },
 "nbformat": 3,
 "nbformat_minor": 0,
 "worksheets": [
  {
   "cells": [
    {
     "cell_type": "code",
     "collapsed": false,
     "input": [
      "# load the bias and halo mass function models\n",
      "from pyPT.cosmology import bias, hmf, linear_growth, cosmo_tools"
     ],
     "language": "python",
     "metadata": {},
     "outputs": [],
     "prompt_number": 1
    },
    {
     "cell_type": "code",
     "collapsed": false,
     "input": [
      "# scipy import\n",
      "from scipy.interpolate import InterpolatedUnivariateSpline as spline\n",
      "import scipy.integrate as intgr"
     ],
     "language": "python",
     "metadata": {},
     "outputs": [],
     "prompt_number": 2
    },
    {
     "cell_type": "code",
     "collapsed": false,
     "input": [
      "reload(hmf)"
     ],
     "language": "python",
     "metadata": {},
     "outputs": []
    },
    {
     "cell_type": "code",
     "collapsed": false,
     "input": [
      "# initialize the halo mass function\n",
      "mf1 = hmf.HaloMassFunction(params='WMAP9_eCMB', mf_fit='Tinker_norm', cut_fit=False, z=0.)\n",
      "mf2 = hmf.HaloMassFunction(params='WMAP9_eCMB', mf_fit='Tinker_unnorm', cut_fit=False, z=0.)\n",
      "mf1.M = linspace(8, 16, 1000)\n",
      "mf2.M = linspace(8, 16, 1000)"
     ],
     "language": "python",
     "metadata": {},
     "outputs": [],
     "prompt_number": 3
    },
    {
     "cell_type": "code",
     "collapsed": false,
     "input": [
      "# make the dn/dlnm spline here \n",
      "dndlnm1 = spline(log(mf1.M), mf1.dndlnm, k=1)\n",
      "dndlnm2 = spline(log(mf2.M), mf2.dndlnm, k=1)"
     ],
     "language": "python",
     "metadata": {},
     "outputs": [],
     "prompt_number": 4
    },
    {
     "cell_type": "code",
     "collapsed": false,
     "input": [
      "# now try out the spline\n",
      "func = mf1.spline(1.0)"
     ],
     "language": "python",
     "metadata": {},
     "outputs": [
      {
       "ename": "TypeError",
       "evalue": "__init__() got an unexpected keyword argument 'a'",
       "output_type": "pyerr",
       "traceback": [
        "\u001b[0;31m---------------------------------------------------------------------------\u001b[0m\n\u001b[0;31mTypeError\u001b[0m                                 Traceback (most recent call last)",
        "\u001b[0;32m<ipython-input-5-51728f5cbf2b>\u001b[0m in \u001b[0;36m<module>\u001b[0;34m()\u001b[0m\n\u001b[1;32m      1\u001b[0m \u001b[0;31m# now try out the spline\u001b[0m\u001b[0;34m\u001b[0m\u001b[0;34m\u001b[0m\u001b[0m\n\u001b[0;32m----> 2\u001b[0;31m \u001b[0mfunc\u001b[0m \u001b[0;34m=\u001b[0m \u001b[0mmf1\u001b[0m\u001b[0;34m.\u001b[0m\u001b[0mspline\u001b[0m\u001b[0;34m(\u001b[0m\u001b[0;36m1.0\u001b[0m\u001b[0;34m)\u001b[0m\u001b[0;34m\u001b[0m\u001b[0m\n\u001b[0m",
        "\u001b[0;32m/Users/Nick/research/codes/pyPT/pyPT/cosmology/hmf.so\u001b[0m in \u001b[0;36mpyPT.cosmology.hmf.HaloMassFunction.spline (pyPT/cosmology/hmf.c:11944)\u001b[0;34m()\u001b[0m\n",
        "\u001b[0;32m/Users/Nick/research/codes/pyPT/pyPT/cosmology/hmf.so\u001b[0m in \u001b[0;36mpyPT.cosmology.hmf.HaloMassFunction._fit_exponential_cutoff (pyPT/cosmology/hmf.c:11200)\u001b[0;34m()\u001b[0m\n",
        "\u001b[0;31mTypeError\u001b[0m: __init__() got an unexpected keyword argument 'a'"
       ]
      }
     ],
     "prompt_number": 5
    },
    {
     "cell_type": "code",
     "collapsed": false,
     "input": [
      "# plot the dn/dnlnm spline to make sure it looks okay\n",
      "M = 10**linspace(8, 16, 1000)\n",
      "loglog(M, mf1.dndm)\n",
      "#semilogx(M, M*dndlnm2(log(M)))\n"
     ],
     "language": "python",
     "metadata": {},
     "outputs": [
      {
       "metadata": {},
       "output_type": "pyout",
       "prompt_number": 88,
       "text": [
        "[<matplotlib.lines.Line2D at 0x10c2a23d0>]"
       ]
      },
      {
       "metadata": {},
       "output_type": "display_data",
       "png": "[encoded data removed]",
       "text": [
        "<matplotlib.figure.Figure at 0x10be6c510>"
       ]
      }
     ],
     "prompt_number": 88
    },
    {
     "cell_type": "code",
     "collapsed": false,
     "input": [
      "rho_mean1 = intgr.quad(lambda lnM: dndlnm1(lnM)*exp(lnM), log(1e0), log(1e16))[0]\n",
      "print rho_mean1, mf1.cosmo.mean_dens\n",
      "\n",
      "rho_mean2 = intgr.quad(lambda lnM: dndlnm2(lnM)*exp(lnM), log(1e0), log(1e16))[0]\n",
      "print rho_mean2, mf1.cosmo.mean_dens"
     ],
     "language": "python",
     "metadata": {},
     "outputs": [
      {
       "output_type": "stream",
       "stream": "stdout",
       "text": [
        "57973652762.0 75301053626.3\n",
        "62305641194.0 75301053626.3\n"
       ]
      }
     ],
     "prompt_number": 41
    },
    {
     "cell_type": "code",
     "collapsed": false,
     "input": [
      "def integrand1(lnM):\n",
      "    M = exp(lnM)\n",
      "    R = cosmo_tools.mass_to_radius(M, mf1.cosmo.mean_dens)\n",
      "    sigma = linear_growth.mass_variance(R, mf1.z, params=mf1.cosmo)\n",
      "    return dndlnm1(lnM)*M#*bias.bias_Tinker(sigma, mf1.delta_c, mf1.delta_h)\n",
      "\n",
      "def integrand2(lnM):\n",
      "    M = exp(lnM)\n",
      "    R = cosmo_tools.mass_to_radius(M, mf1.cosmo.mean_dens)\n",
      "    sigma = linear_growth.mass_variance(R, mf2.z, params=mf1.cosmo)\n",
      "    return dndlnm2(lnM)*M*bias.bias_Tinker(sigma, mf1.delta_c, mf1.delta_h)\n"
     ],
     "language": "python",
     "metadata": {},
     "outputs": [],
     "prompt_number": 42
    },
    {
     "cell_type": "code",
     "collapsed": false,
     "input": [
      "logMmin, logMmax = amin(log(mf1.M)), amax(log(mf1.M))\n",
      "print logMmin, logMmax"
     ],
     "language": "python",
     "metadata": {},
     "outputs": [
      {
       "output_type": "stream",
       "stream": "stdout",
       "text": [
        "-11.512925465 36.8413614879\n"
       ]
      }
     ],
     "prompt_number": 43
    },
    {
     "cell_type": "code",
     "collapsed": false,
     "input": [
      "intgr.quad(integrand1, logMmin, logMmax)[0]/rho_mean1"
     ],
     "language": "python",
     "metadata": {},
     "outputs": [
      {
       "metadata": {},
       "output_type": "pyout",
       "prompt_number": 44,
       "text": [
        "1.0544108318857282"
       ]
      }
     ],
     "prompt_number": 44
    },
    {
     "cell_type": "code",
     "collapsed": false,
     "input": [
      "# the line of sight velocity squared for dark matter\n",
      "def velocity(M_Msunh, z):\n",
      "    sigma_DM = 1082.9 # km/s\n",
      "    alpha    = 0.3361 \n",
      "        \n",
      "    Ez = cosmo_tools.H(z, params=mf1.cosmo)/mf1.cosmo.H0\n",
      "    return sigma_DM * (Ez*M_Msunh/1e15)**alpha\n",
      "#def velocity(M):\n",
      "#    return (235.)*(M/1e13)**(1./3)\n"
     ],
     "language": "python",
     "metadata": {},
     "outputs": [],
     "prompt_number": 62
    },
    {
     "cell_type": "code",
     "collapsed": false,
     "input": [
      "lnM = log(mf1.M)\n",
      "# now compute sigma_v2\n",
      "sigmav2_integrand = lambda lnM : dndlnm2(lnM)*exp(lnM)*velocity(exp(lnM), 0.)**2\n",
      "sigma_v2 = sqrt(intgr.quad(sigmav2_integrand, log(1e8), log(1e16))[0] / mf1.cosmo.mean_dens)\n",
      "print \"sigma_v2 = %.2f km/s\" %(sigma_v2)"
     ],
     "language": "python",
     "metadata": {},
     "outputs": [
      {
       "output_type": "stream",
       "stream": "stdout",
       "text": [
        "sigma_v2 = 238.53 km/s\n"
       ]
      }
     ],
     "prompt_number": 76
    },
    {
     "cell_type": "code",
     "collapsed": false,
     "input": [
      "# now compute sigma_bv2\n",
      "def sigma_bv2_integrand(lnM):\n",
      "    M = exp(lnM)\n",
      "    R = cosmo_tools.mass_to_radius(M, mf1.cosmo.mean_dens)\n",
      "    sigma = linear_growth.mass_variance(R, mf1.z, params=mf1.cosmo)\n",
      "    \n",
      "    v = velocity(exp(lnM), 0.,)**2\n",
      "    n = dndlnm1(lnM)\n",
      "    b = bias.bias_Tinker(sigma, mf1.delta_c, mf1.delta_halo)[0]\n",
      "    x = v*n*b*M\n",
      "    return x\n",
      "\n",
      "sigma_bv2 = sqrt(intgr.quad(sigma_bv2_integrand, log(1e8), log(1e16))[0] /mf1.cosmo.mean_dens)\n",
      "print \"sigma_bv2 = %.2f km/s\" %(sigma_bv2)"
     ],
     "language": "python",
     "metadata": {},
     "outputs": [
      {
       "output_type": "stream",
       "stream": "stdout",
       "text": [
        "sigma_bv2 = 418.37 km/s\n"
       ]
      }
     ],
     "prompt_number": 65
    },
    {
     "cell_type": "code",
     "collapsed": false,
     "input": [
      "# now compute sigma_bv4\n",
      "def sigma_bv4_integrand(lnM):\n",
      "    M = exp(lnM)\n",
      "    R = cosmo_tools.mass_to_radius(M, mf1.cosmo.mean_dens)\n",
      "    sigma = linear_growth.mass_variance(R, mf1.z, params=mf1.cosmo)\n",
      "    \n",
      "    v = velocity(exp(lnM), 0)**4\n",
      "    n = dndlnm1(lnM)\n",
      "    b = bias.bias_Tinker(sigma, mf1.delta_c, mf1.delta_halo)[0]\n",
      "    x = v*n*b*M\n",
      "    return x\n",
      "\n",
      "sigma_bv4 = sqrt(intgr.quad(sigma_bv4_integrand, log(1e8), log(1e16))[0] / mf1.cosmo.mean_dens)\n",
      "print \"sigma_bv4 = %.2f km/s\" %(sqrt(sigma_bv4))"
     ],
     "language": "python",
     "metadata": {},
     "outputs": [
      {
       "output_type": "stream",
       "stream": "stdout",
       "text": [
        "sigma_bv4 = 598.00 km/s\n"
       ]
      }
     ],
     "prompt_number": 67
    },
    {
     "cell_type": "code",
     "collapsed": false,
     "input": [],
     "language": "python",
     "metadata": {},
     "outputs": [],
     "prompt_number": 359
    },
    {
     "cell_type": "code",
     "collapsed": false,
     "input": [
      "delta_virs = np.array([200, 300, 400, 600, 800, 1200, 1600, 2400, 3200])"
     ],
     "language": "python",
     "metadata": {},
     "outputs": [],
     "prompt_number": 55
    },
    {
     "cell_type": "code",
     "collapsed": false,
     "input": [
      "mf.delta_h in delta_virs"
     ],
     "language": "python",
     "metadata": {},
     "outputs": [
      {
       "metadata": {},
       "output_type": "pyout",
       "prompt_number": 56,
       "text": [
        "True"
       ]
      }
     ],
     "prompt_number": 56
    },
    {
     "cell_type": "code",
     "collapsed": false,
     "input": [
      "def fsigma_Tinker(nu, delta_halo=200):\n",
      "    delta_virs = np.array([200, 300, 400, 600, 800, 1200, 1600, 2400, 3200])\n",
      "    \n",
      "    if delta_halo in delta_virs:\n",
      "        index = np.where(delta_virs == delta_halo)[0]\n",
      "    else:\n",
      "        raise ValueError(\"delta_halo = %s is invalid; must be one of %s\" %(delta_halo, delta_virs))\n",
      "    alpha_array = np.array([ 0.368,\n",
      "                             0.363,\n",
      "                             0.385,\n",
      "                             0.389,\n",
      "                             0.393,\n",
      "                             0.365,\n",
      "                             0.379,\n",
      "                             0.355,\n",
      "                             0.327])\n",
      "\n",
      "    beta_array = np.array([ 0.589,\n",
      "                            0.585,\n",
      "                            0.544,\n",
      "                            0.543,\n",
      "                            0.564,\n",
      "                            0.623,\n",
      "                            0.637,\n",
      "                            0.673,\n",
      "                            0.702])\n",
      "\n",
      "    gamma_array = np.array([ 0.864,\n",
      "                             0.922,\n",
      "                             0.987,\n",
      "                             1.09,\n",
      "                             1.20,\n",
      "                             1.34,\n",
      "                             1.50,\n",
      "                             1.68,\n",
      "                             1.81])\n",
      "\n",
      "    phi_array = np.array([ -0.729,\n",
      "                           -0.789,\n",
      "                           -0.910,\n",
      "                           -1.050,\n",
      "                           -1.200,\n",
      "                           -1.260,\n",
      "                           -1.450,\n",
      "                           -1.500,\n",
      "                           -1.490])\n",
      "    \n",
      "    eta_array = np.array([ -0.243,\n",
      "                           -0.261,\n",
      "                           -0.261,\n",
      "                           -0.273,\n",
      "                           -0.278,\n",
      "                           -0.301,\n",
      "                           -0.301,\n",
      "                           -0.319,\n",
      "                           -0.336 ])\n",
      "                           \n",
      "    alpha = alpha_array[index]\n",
      "    beta  = beta_array[index]\n",
      "    gamma = gamma_array[index]\n",
      "    phi  = phi_array[index]\n",
      "    eta   = eta_array[index]\n",
      "\n",
      "    fnu = alpha * (1 + (beta*nu)**(-2*phi)) * nu**(2*eta) * np.exp(-0.5*gamma*nu**2)\n",
      "    return fnu"
     ],
     "language": "python",
     "metadata": {},
     "outputs": [],
     "prompt_number": 69
    },
    {
     "cell_type": "code",
     "collapsed": false,
     "input": [
      "def bias_Tinker(nu, delta_halo=200):\n",
      "\n",
      "    y = np.log10(delta_halo)\n",
      "    \n",
      "    # get the parameters as a function of halo overdensity\n",
      "    A = 1. + 0.24*y*np.exp(-(4./y)**4)\n",
      "    a = 0.44*y - 0.88\n",
      "    B = 0.183\n",
      "    b = 1.5\n",
      "    C = 0.019 + 0.107*y + 0.19*np.exp(-(4./y)**4)\n",
      "    c = 2.4\n",
      "    \n",
      "    delta_c = 1.686\n",
      "    return 1. - A * (nu**a)/(nu**a + delta_c**a) + B*nu**b + C*nu**c"
     ],
     "language": "python",
     "metadata": {},
     "outputs": [],
     "prompt_number": 70
    },
    {
     "cell_type": "code",
     "collapsed": false,
     "input": [
      "norm_integrand = lambda v : bias_Tinker(v)*fsigma_Tinker(v)\n",
      "intgr.quad(norm_integrand, 0., np.inf)"
     ],
     "language": "python",
     "metadata": {},
     "outputs": [
      {
       "metadata": {},
       "output_type": "pyout",
       "prompt_number": 82,
       "text": [
        "(0.9988896616519823, 8.66531835175266e-09)"
       ]
      }
     ],
     "prompt_number": 82
    },
    {
     "cell_type": "code",
     "collapsed": false,
     "input": [],
     "language": "python",
     "metadata": {},
     "outputs": []
    }
   ],
   "metadata": {}
  }
 ]
}